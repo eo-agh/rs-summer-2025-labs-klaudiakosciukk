{
 "cells": [
  {
   "cell_type": "markdown",
   "id": "6a35dba3",
   "metadata": {},
   "source": [
    "# Laboratory Exercise 1: Introduction to Google Earth Engine (GEE)\n",
    "In this lab, you will learn how to initialize Google Earth Engine (GEE), select satellite images, visualize data, and analyze basic metadata."
   ]
  },
  {
   "cell_type": "markdown",
   "id": "1c5f6c68",
   "metadata": {},
   "source": [
    "## Task 1: Initialize Google Earth Engine\n",
    "Authenticate and initialize the Google Earth Engine (GEE) API."
   ]
  },
  {
   "cell_type": "code",
   "execution_count": null,
   "id": "2dbfdbda",
   "metadata": {},
   "outputs": [],
   "source": [
    "# Authenticate and initialize GEE\n",
    "# TODO: Use the Earth Engine library to authenticate and initialize your session\n",
    "#import ee\n",
    "#ee.Authenticate()\n",
    "ee.Initialize(project='ee-kkosciukk')\n"
   ]
  },
  {
   "cell_type": "markdown",
   "id": "7b7d36d4",
   "metadata": {},
   "source": [
    "## Task 2: Define Area of Interest (AOI)\n",
    "Define your area of interest (AOI). You can use either a point or a bounding box.\n",
    "Example coordinates are provided below (Krakow, Poland). Adjust them for your location."
   ]
  },
  {
   "cell_type": "code",
   "execution_count": null,
   "id": "75f06d59",
   "metadata": {},
   "outputs": [],
   "source": [
    "# Define AOI\n",
    "# TODO: Replace with your coordinates\n",
    "#aoi = ee.Geometry.Point([19.9383, 50.0614])  # Example: Krakow\n",
    "# or\n",
    "aoi = ee.Geometry.Rectangle([22.402140, 49.300600, 22.544340, 49.435930])"
   ]
  },
  {
   "cell_type": "markdown",
   "id": "fc029d60",
   "metadata": {},
   "source": [
    "## Task 3: Retrieve Sentinel-2 Data\n",
    "Retrieve Sentinel-2 imagery for your defined AOI within a specific date range. Sort the images based on cloud cover percentage."
   ]
  },
  {
   "cell_type": "code",
   "execution_count": null,
   "id": "5e08ded8",
   "metadata": {},
   "outputs": [],
   "source": [
    "# Retrieve Sentinel-2 Data\n",
    "# TODO: Adjust the date range and retrieve the least cloudy Sentinel-2 image\n",
    "sentinel2 = ee.ImageCollection('COPERNICUS/S2_HARMONIZED') \\\n",
    "    .filterDate('2024-07-01', '2024-09-30') \\\n",
    "    .filterBounds(aoi) \\\n",
    "    .sort('CLOUDY_PIXEL_PERCENTAGE')  # Sort by cloud cover percentage\n",
    "\n",
    "# Select the least cloudy image\n",
    "image = sentinel2.first()\n",
    "\n",
    "# Retrieve metadata of the selected image\n",
    "metadata = image.getInfo()\n",
    "\n"
   ]
  },
  {
   "cell_type": "markdown",
   "id": "8024b605",
   "metadata": {},
   "source": [
    "## Task 4: Extract Image Metadata\n",
    "Extract and print metadata from the selected image, such as ID, cloud cover percentage, mean solar azimuth and zenith angles, and processing level."
   ]
  },
  {
   "cell_type": "code",
   "execution_count": null,
   "id": "14d34b82",
   "metadata": {},
   "outputs": [],
   "source": [
    "# Extract metadata\n",
    "# TODO: Retrieve and display image metadata\n",
    "print(metadata)"
   ]
  },
  {
   "cell_type": "markdown",
   "id": "d5113faa",
   "metadata": {},
   "source": [
    "## Task 5: Visualize Image\n",
    "Create a map and visualize the Sentinel-2 image using different visualization parameters (e.g., true color, false color)."
   ]
  },
  {
   "cell_type": "code",
   "execution_count": null,
   "id": "ffe9a4f2",
   "metadata": {},
   "outputs": [],
   "source": [
    "# Visualization\n",
    "# TODO: Create visualization layers using true color and false color compositions\n",
    "# Example parameters provided below:\n",
    "true_color_params = {'bands': ['B4', 'B3', 'B2'], 'min': 0, 'max': 3000}\n",
    "#false_color_params = {'bands': ['B8', 'B4', 'B3'], 'min': 0, 'max': 5000}\n",
    "\n",
    "import geemap\n",
    "\n",
    "# Initialize the map\n",
    "Map = geemap.Map()\n",
    "\n",
    "# TODO: Add these layers to an interactive map\n",
    "\n",
    "Map.addLayer(image, true_color_params, \"First image\")\n",
    "Map.centerObject(image)\n",
    "Map"
   ]
  },
  {
   "cell_type": "markdown",
   "id": "cfc58f9d",
   "metadata": {},
   "source": [
    "## Submission\n",
    "Save your completed notebook and submit it to your course repository."
   ]
  }
 ],
 "metadata": {
  "kernelspec": {
   "display_name": "gee",
   "language": "python",
   "name": "python3"
  },
  "language_info": {
   "codemirror_mode": {
    "name": "ipython",
    "version": 3
   },
   "file_extension": ".py",
   "mimetype": "text/x-python",
   "name": "python",
   "nbconvert_exporter": "python",
   "pygments_lexer": "ipython3",
   "version": "3.11.11"
  }
 },
 "nbformat": 4,
 "nbformat_minor": 2
}

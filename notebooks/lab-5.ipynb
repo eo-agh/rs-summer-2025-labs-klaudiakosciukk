{
 "cells": [
  {
   "cell_type": "markdown",
   "id": "0f11c463",
   "metadata": {},
   "source": [
    "# Lab 5: Land Surface Temperature using CORINE-based Emissivity"
   ]
  },
  {
   "cell_type": "markdown",
   "id": "290155fd",
   "metadata": {},
   "source": [
    "## 🎯 Objectives\n",
    "In this exercise, you will:\n",
    "- Select a cloud-free Landsat 8 images from 2013 and 2023 (or different if you're sure that you'll spot a difference in land cover)\n",
    "- Calculate Brightness Temperature (TB) from Band 10.\n",
    "- Load CORINE Land Cover data and assign emissivity values to each land cover class.\n",
    "- Use the Planck-based formula to calculate Land Surface Temperature (LST).\n",
    "- Visualize and interpret the results."
   ]
  },
  {
   "cell_type": "markdown",
   "id": "16d50ca3",
   "metadata": {},
   "source": [
    "## Step 1: Define Area of Interest (AOI)\n",
    "- Use coordinates around Reduta street in Kraków.\n",
    "- Create a polygon or rectangle using `ee.Geometry.Polygon`."
   ]
  },
  {
   "cell_type": "code",
   "execution_count": 1,
   "id": "9a13c0ee",
   "metadata": {},
   "outputs": [],
   "source": [
    "import ee\n",
    "import geemap\n",
    "#ee.Authenticate()\n",
    "ee.Initialize(project='ee-kkosciukk')"
   ]
  },
  {
   "cell_type": "code",
   "execution_count": 2,
   "id": "2d3f19b3",
   "metadata": {},
   "outputs": [
    {
     "data": {
      "text/html": [
       "\n",
       "            <style>\n",
       "                .geemap-dark {\n",
       "                    --jp-widgets-color: white;\n",
       "                    --jp-widgets-label-color: white;\n",
       "                    --jp-ui-font-color1: white;\n",
       "                    --jp-layout-color2: #454545;\n",
       "                    background-color: #383838;\n",
       "                }\n",
       "\n",
       "                .geemap-dark .jupyter-button {\n",
       "                    --jp-layout-color3: #383838;\n",
       "                }\n",
       "\n",
       "                .geemap-colab {\n",
       "                    background-color: var(--colab-primary-surface-color, white);\n",
       "                }\n",
       "\n",
       "                .geemap-colab .jupyter-button {\n",
       "                    --jp-layout-color3: var(--colab-primary-surface-color, white);\n",
       "                }\n",
       "            </style>\n",
       "            "
      ],
      "text/plain": [
       "<IPython.core.display.HTML object>"
      ]
     },
     "metadata": {},
     "output_type": "display_data"
    }
   ],
   "source": [
    "aoi = ee.Geometry.Rectangle([19.947306, 50.097058, 19.969359, 50.103414])\n"
   ]
  },
  {
   "cell_type": "markdown",
   "id": "116de1cc",
   "metadata": {},
   "source": [
    "## Step 2: Load Landsat 8 imagery for the dates you've picked\n",
    "- Filter for low cloud cover (< 20%)\n",
    "- Select Band 10 and convert to TB using: `TB = ST_B10 * 0.00341802 + 149.0`"
   ]
  },
  {
   "cell_type": "code",
   "execution_count": 5,
   "id": "bdb32790",
   "metadata": {},
   "outputs": [
    {
     "data": {
      "text/html": [
       "\n",
       "            <style>\n",
       "                .geemap-dark {\n",
       "                    --jp-widgets-color: white;\n",
       "                    --jp-widgets-label-color: white;\n",
       "                    --jp-ui-font-color1: white;\n",
       "                    --jp-layout-color2: #454545;\n",
       "                    background-color: #383838;\n",
       "                }\n",
       "\n",
       "                .geemap-dark .jupyter-button {\n",
       "                    --jp-layout-color3: #383838;\n",
       "                }\n",
       "\n",
       "                .geemap-colab {\n",
       "                    background-color: var(--colab-primary-surface-color, white);\n",
       "                }\n",
       "\n",
       "                .geemap-colab .jupyter-button {\n",
       "                    --jp-layout-color3: var(--colab-primary-surface-color, white);\n",
       "                }\n",
       "            </style>\n",
       "            "
      ],
      "text/plain": [
       "<IPython.core.display.HTML object>"
      ]
     },
     "metadata": {},
     "output_type": "display_data"
    }
   ],
   "source": [
    "# Load image and calculate TB\n",
    "image_2013 = (\n",
    "    ee.ImageCollection('LANDSAT/LC08/C02/T1_L2')\n",
    "    .filterBounds(aoi)\n",
    "    .filterDate('2013-08-01', '2013-08-30')\n",
    "    .filterMetadata('CLOUD_COVER', 'less_than', 20)\n",
    "    .first()\n",
    ")\n",
    "\n",
    "image_2024 = (\n",
    "    ee.ImageCollection('LANDSAT/LC09/C02/T1_L2')\n",
    "    .filterBounds(aoi)\n",
    "    .filterDate('2024-08-01', '2024-08-30')\n",
    "    .filterMetadata('CLOUD_COVER', 'less_than', 20)\n",
    "    .first()\n",
    ")\n",
    "\n",
    "tb_image_2013 = image_2013.select('ST_B10').multiply(0.00341802).add(149.0).rename('TB_2013');\n",
    "\n",
    "tb_image_2024 = image_2024.select('ST_B10').multiply(0.00341802).add(149.0).rename('TB_2024');"
   ]
  },
  {
   "cell_type": "code",
   "execution_count": 6,
   "id": "4628b5cc",
   "metadata": {},
   "outputs": [
    {
     "data": {
      "text/html": [
       "\n",
       "            <style>\n",
       "                .geemap-dark {\n",
       "                    --jp-widgets-color: white;\n",
       "                    --jp-widgets-label-color: white;\n",
       "                    --jp-ui-font-color1: white;\n",
       "                    --jp-layout-color2: #454545;\n",
       "                    background-color: #383838;\n",
       "                }\n",
       "\n",
       "                .geemap-dark .jupyter-button {\n",
       "                    --jp-layout-color3: #383838;\n",
       "                }\n",
       "\n",
       "                .geemap-colab {\n",
       "                    background-color: var(--colab-primary-surface-color, white);\n",
       "                }\n",
       "\n",
       "                .geemap-colab .jupyter-button {\n",
       "                    --jp-layout-color3: var(--colab-primary-surface-color, white);\n",
       "                }\n",
       "            </style>\n",
       "            "
      ],
      "text/plain": [
       "<IPython.core.display.HTML object>"
      ]
     },
     "metadata": {},
     "output_type": "display_data"
    },
    {
     "name": "stdout",
     "output_type": "stream",
     "text": [
      "{'type': 'Image', 'bands': [{'id': 'SR_B1', 'data_type': {'type': 'PixelType', 'precision': 'int', 'min': 0, 'max': 65535}, 'dimensions': [7961, 8051], 'crs': 'EPSG:32634', 'crs_transform': [30, 0, 303885, 0, -30, 5690715]}, {'id': 'SR_B2', 'data_type': {'type': 'PixelType', 'precision': 'int', 'min': 0, 'max': 65535}, 'dimensions': [7961, 8051], 'crs': 'EPSG:32634', 'crs_transform': [30, 0, 303885, 0, -30, 5690715]}, {'id': 'SR_B3', 'data_type': {'type': 'PixelType', 'precision': 'int', 'min': 0, 'max': 65535}, 'dimensions': [7961, 8051], 'crs': 'EPSG:32634', 'crs_transform': [30, 0, 303885, 0, -30, 5690715]}, {'id': 'SR_B4', 'data_type': {'type': 'PixelType', 'precision': 'int', 'min': 0, 'max': 65535}, 'dimensions': [7961, 8051], 'crs': 'EPSG:32634', 'crs_transform': [30, 0, 303885, 0, -30, 5690715]}, {'id': 'SR_B5', 'data_type': {'type': 'PixelType', 'precision': 'int', 'min': 0, 'max': 65535}, 'dimensions': [7961, 8051], 'crs': 'EPSG:32634', 'crs_transform': [30, 0, 303885, 0, -30, 5690715]}, {'id': 'SR_B6', 'data_type': {'type': 'PixelType', 'precision': 'int', 'min': 0, 'max': 65535}, 'dimensions': [7961, 8051], 'crs': 'EPSG:32634', 'crs_transform': [30, 0, 303885, 0, -30, 5690715]}, {'id': 'SR_B7', 'data_type': {'type': 'PixelType', 'precision': 'int', 'min': 0, 'max': 65535}, 'dimensions': [7961, 8051], 'crs': 'EPSG:32634', 'crs_transform': [30, 0, 303885, 0, -30, 5690715]}, {'id': 'SR_QA_AEROSOL', 'data_type': {'type': 'PixelType', 'precision': 'int', 'min': 0, 'max': 255}, 'dimensions': [7961, 8051], 'crs': 'EPSG:32634', 'crs_transform': [30, 0, 303885, 0, -30, 5690715]}, {'id': 'ST_B10', 'data_type': {'type': 'PixelType', 'precision': 'int', 'min': 0, 'max': 65535}, 'dimensions': [7961, 8051], 'crs': 'EPSG:32634', 'crs_transform': [30, 0, 303885, 0, -30, 5690715]}, {'id': 'ST_ATRAN', 'data_type': {'type': 'PixelType', 'precision': 'int', 'min': -32768, 'max': 32767}, 'dimensions': [7961, 8051], 'crs': 'EPSG:32634', 'crs_transform': [30, 0, 303885, 0, -30, 5690715]}, {'id': 'ST_CDIST', 'data_type': {'type': 'PixelType', 'precision': 'int', 'min': -32768, 'max': 32767}, 'dimensions': [7961, 8051], 'crs': 'EPSG:32634', 'crs_transform': [30, 0, 303885, 0, -30, 5690715]}, {'id': 'ST_DRAD', 'data_type': {'type': 'PixelType', 'precision': 'int', 'min': -32768, 'max': 32767}, 'dimensions': [7961, 8051], 'crs': 'EPSG:32634', 'crs_transform': [30, 0, 303885, 0, -30, 5690715]}, {'id': 'ST_EMIS', 'data_type': {'type': 'PixelType', 'precision': 'int', 'min': -32768, 'max': 32767}, 'dimensions': [7961, 8051], 'crs': 'EPSG:32634', 'crs_transform': [30, 0, 303885, 0, -30, 5690715]}, {'id': 'ST_EMSD', 'data_type': {'type': 'PixelType', 'precision': 'int', 'min': -32768, 'max': 32767}, 'dimensions': [7961, 8051], 'crs': 'EPSG:32634', 'crs_transform': [30, 0, 303885, 0, -30, 5690715]}, {'id': 'ST_QA', 'data_type': {'type': 'PixelType', 'precision': 'int', 'min': -32768, 'max': 32767}, 'dimensions': [7961, 8051], 'crs': 'EPSG:32634', 'crs_transform': [30, 0, 303885, 0, -30, 5690715]}, {'id': 'ST_TRAD', 'data_type': {'type': 'PixelType', 'precision': 'int', 'min': -32768, 'max': 32767}, 'dimensions': [7961, 8051], 'crs': 'EPSG:32634', 'crs_transform': [30, 0, 303885, 0, -30, 5690715]}, {'id': 'ST_URAD', 'data_type': {'type': 'PixelType', 'precision': 'int', 'min': -32768, 'max': 32767}, 'dimensions': [7961, 8051], 'crs': 'EPSG:32634', 'crs_transform': [30, 0, 303885, 0, -30, 5690715]}, {'id': 'QA_PIXEL', 'data_type': {'type': 'PixelType', 'precision': 'int', 'min': 0, 'max': 65535}, 'dimensions': [7961, 8051], 'crs': 'EPSG:32634', 'crs_transform': [30, 0, 303885, 0, -30, 5690715]}, {'id': 'QA_RADSAT', 'data_type': {'type': 'PixelType', 'precision': 'int', 'min': 0, 'max': 65535}, 'dimensions': [7961, 8051], 'crs': 'EPSG:32634', 'crs_transform': [30, 0, 303885, 0, -30, 5690715]}], 'version': 1629937588631035, 'id': 'LANDSAT/LC08/C02/T1_L2/LC08_188025_20130807', 'properties': {'DATA_SOURCE_ELEVATION': 'GLS2000', 'WRS_TYPE': 2, 'REFLECTANCE_ADD_BAND_1': -0.2, 'REFLECTANCE_ADD_BAND_2': -0.2, 'DATUM': 'WGS84', 'REFLECTANCE_ADD_BAND_3': -0.2, 'REFLECTANCE_ADD_BAND_4': -0.2, 'REFLECTANCE_ADD_BAND_5': -0.2, 'REFLECTANCE_ADD_BAND_6': -0.2, 'REFLECTANCE_ADD_BAND_7': -0.2, 'system:footprint': {'type': 'LinearRing', 'coordinates': [[18.303677581783585, 49.65177901833434], [18.30133292851777, 49.6454221697321], [18.90553772048587, 49.54405425622745], [20.43068901409536, 49.272061416974104], [20.78767505688566, 49.20502980777063], [20.795156848047018, 49.22165223350327], [20.812724753064632, 49.260812094211545], [20.846299116331846, 49.3366913916675], [20.960894317499662, 49.59449062001309], [21.018781976495205, 49.72367884426564], [21.09011297161431, 49.88210528368771], [21.26662740692821, 50.27060803774402], [21.33723657085804, 50.42455372551448], [21.431226267038156, 50.628269860160465], [21.542624586079356, 50.86755318013306], [21.557776930613997, 50.900032235045025], [21.066301840034967, 50.99052971826459], [19.483846136514032, 51.26560675273733], [18.981570438608255, 51.347774233800926], [18.64045750035252, 50.50943184766103], [18.303677581783585, 49.65177901833434]]}, 'REFLECTIVE_SAMPLES': 7961, 'GROUND_CONTROL_POINTS_VERSION': 5, 'SUN_AZIMUTH': 150.58120427, 'DATA_SOURCE_TIRS_STRAY_LIGHT_CORRECTION': 'TIRS', 'UTM_ZONE': 34, 'DATE_ACQUIRED': '2013-08-07', 'ELLIPSOID': 'WGS84', 'system:time_end': 1375868067723, 'DATA_SOURCE_PRESSURE': 'Calculated', 'LANDSAT_PRODUCT_ID': 'LC08_L2SP_188025_20130807_20200912_02_T1', 'STATION_ID': 'LGN', 'TEMPERATURE_ADD_BAND_ST_B10': 149, 'DATA_SOURCE_REANALYSIS': 'GEOS-5 FP-IT', 'REFLECTANCE_MULT_BAND_7': 2.75e-05, 'system:time_start': 1375868067723, 'REFLECTANCE_MULT_BAND_6': 2.75e-05, 'L1_PROCESSING_LEVEL': 'L1TP', 'PROCESSING_SOFTWARE_VERSION': 'LPGS_15.3.1c', 'L1_DATE_PRODUCT_GENERATED': '2020-09-12T16:39:30Z', 'ORIENTATION': 'NORTH_UP', 'REFLECTANCE_MULT_BAND_1': 2.75e-05, 'WRS_ROW': 25, 'REFLECTANCE_MULT_BAND_3': 2.75e-05, 'REFLECTANCE_MULT_BAND_2': 2.75e-05, 'TARGET_WRS_ROW': 25, 'REFLECTANCE_MULT_BAND_5': 2.75e-05, 'REFLECTANCE_MULT_BAND_4': 2.75e-05, 'THERMAL_LINES': 8051, 'TIRS_SSM_POSITION_STATUS': 'NOMINAL', 'GRID_CELL_SIZE_THERMAL': 30, 'IMAGE_QUALITY_TIRS': 9, 'TRUNCATION_OLI': 'UPPER', 'NADIR_OFFNADIR': 'NADIR', 'CLOUD_COVER': 0.54, 'REQUEST_ID': 'L2', 'EARTH_SUN_DISTANCE': 1.0141122, 'GEOMETRIC_RMSE_VERIFY': 3.087, 'TIRS_SSM_MODEL': 'ACTUAL', 'COLLECTION_CATEGORY': 'T1', 'SCENE_CENTER_TIME': '09:34:27.7232760Z', 'GRID_CELL_SIZE_REFLECTIVE': 30, 'SUN_ELEVATION': 53.10373576, 'ALGORITHM_SOURCE_SURFACE_TEMPERATURE': 'st_1.3.0', 'TEMPERATURE_MAXIMUM_BAND_ST_B10': 372.999941, 'CLOUD_COVER_LAND': 0.54, 'GEOMETRIC_RMSE_MODEL': 4.206, 'ROLL_ANGLE': -0.001, 'COLLECTION_NUMBER': 2, 'DATE_PRODUCT_GENERATED': 1599929489000, 'L1_REQUEST_ID': 'L2', 'DATA_SOURCE_OZONE': 'MODIS', 'SATURATION_BAND_1': 'N', 'DATA_SOURCE_WATER_VAPOR': 'MODIS', 'SATURATION_BAND_2': 'Y', 'SATURATION_BAND_3': 'N', 'IMAGE_QUALITY_OLI': 9, 'SATURATION_BAND_4': 'N', 'LANDSAT_SCENE_ID': 'LC81880252013219LGN01', 'SATURATION_BAND_5': 'Y', 'MAP_PROJECTION': 'UTM', 'SATURATION_BAND_6': 'Y', 'SENSOR_ID': 'OLI_TIRS', 'SATURATION_BAND_7': 'Y', 'SATURATION_BAND_8': 'N', 'WRS_PATH': 188, 'SATURATION_BAND_9': 'N', 'TARGET_WRS_PATH': 188, 'L1_PROCESSING_SOFTWARE_VERSION': 'LPGS_15.3.1c', 'TEMPERATURE_MULT_BAND_ST_B10': 0.00341802, 'L1_LANDSAT_PRODUCT_ID': 'LC08_L1TP_188025_20130807_20200912_02_T1', 'PROCESSING_LEVEL': 'L2SP', 'ALGORITHM_SOURCE_SURFACE_REFLECTANCE': 'LaSRC_1.5.0', 'GROUND_CONTROL_POINTS_MODEL': 1030, 'SPACECRAFT_ID': 'LANDSAT_8', 'TEMPERATURE_MINIMUM_BAND_ST_B10': 149.003418, 'GEOMETRIC_RMSE_MODEL_Y': 3.163, 'REFLECTIVE_LINES': 8051, 'GEOMETRIC_RMSE_MODEL_X': 2.773, 'THERMAL_SAMPLES': 7961, 'system:asset_size': 1011600722, 'DATA_SOURCE_AIR_TEMPERATURE': 'MODIS', 'GROUND_CONTROL_POINTS_VERIFY': 129, 'system:index': 'LC08_188025_20130807'}}\n",
      "{'type': 'Image', 'bands': [{'id': 'SR_B1', 'data_type': {'type': 'PixelType', 'precision': 'int', 'min': 0, 'max': 65535}, 'dimensions': [7961, 8051], 'crs': 'EPSG:32634', 'crs_transform': [30, 0, 303585, 0, -30, 5690715]}, {'id': 'SR_B2', 'data_type': {'type': 'PixelType', 'precision': 'int', 'min': 0, 'max': 65535}, 'dimensions': [7961, 8051], 'crs': 'EPSG:32634', 'crs_transform': [30, 0, 303585, 0, -30, 5690715]}, {'id': 'SR_B3', 'data_type': {'type': 'PixelType', 'precision': 'int', 'min': 0, 'max': 65535}, 'dimensions': [7961, 8051], 'crs': 'EPSG:32634', 'crs_transform': [30, 0, 303585, 0, -30, 5690715]}, {'id': 'SR_B4', 'data_type': {'type': 'PixelType', 'precision': 'int', 'min': 0, 'max': 65535}, 'dimensions': [7961, 8051], 'crs': 'EPSG:32634', 'crs_transform': [30, 0, 303585, 0, -30, 5690715]}, {'id': 'SR_B5', 'data_type': {'type': 'PixelType', 'precision': 'int', 'min': 0, 'max': 65535}, 'dimensions': [7961, 8051], 'crs': 'EPSG:32634', 'crs_transform': [30, 0, 303585, 0, -30, 5690715]}, {'id': 'SR_B6', 'data_type': {'type': 'PixelType', 'precision': 'int', 'min': 0, 'max': 65535}, 'dimensions': [7961, 8051], 'crs': 'EPSG:32634', 'crs_transform': [30, 0, 303585, 0, -30, 5690715]}, {'id': 'SR_B7', 'data_type': {'type': 'PixelType', 'precision': 'int', 'min': 0, 'max': 65535}, 'dimensions': [7961, 8051], 'crs': 'EPSG:32634', 'crs_transform': [30, 0, 303585, 0, -30, 5690715]}, {'id': 'SR_QA_AEROSOL', 'data_type': {'type': 'PixelType', 'precision': 'int', 'min': 0, 'max': 255}, 'dimensions': [7961, 8051], 'crs': 'EPSG:32634', 'crs_transform': [30, 0, 303585, 0, -30, 5690715]}, {'id': 'ST_B10', 'data_type': {'type': 'PixelType', 'precision': 'int', 'min': 0, 'max': 65535}, 'dimensions': [7961, 8051], 'crs': 'EPSG:32634', 'crs_transform': [30, 0, 303585, 0, -30, 5690715]}, {'id': 'ST_ATRAN', 'data_type': {'type': 'PixelType', 'precision': 'int', 'min': -32768, 'max': 32767}, 'dimensions': [7961, 8051], 'crs': 'EPSG:32634', 'crs_transform': [30, 0, 303585, 0, -30, 5690715]}, {'id': 'ST_CDIST', 'data_type': {'type': 'PixelType', 'precision': 'int', 'min': -32768, 'max': 32767}, 'dimensions': [7961, 8051], 'crs': 'EPSG:32634', 'crs_transform': [30, 0, 303585, 0, -30, 5690715]}, {'id': 'ST_DRAD', 'data_type': {'type': 'PixelType', 'precision': 'int', 'min': -32768, 'max': 32767}, 'dimensions': [7961, 8051], 'crs': 'EPSG:32634', 'crs_transform': [30, 0, 303585, 0, -30, 5690715]}, {'id': 'ST_EMIS', 'data_type': {'type': 'PixelType', 'precision': 'int', 'min': -32768, 'max': 32767}, 'dimensions': [7961, 8051], 'crs': 'EPSG:32634', 'crs_transform': [30, 0, 303585, 0, -30, 5690715]}, {'id': 'ST_EMSD', 'data_type': {'type': 'PixelType', 'precision': 'int', 'min': -32768, 'max': 32767}, 'dimensions': [7961, 8051], 'crs': 'EPSG:32634', 'crs_transform': [30, 0, 303585, 0, -30, 5690715]}, {'id': 'ST_QA', 'data_type': {'type': 'PixelType', 'precision': 'int', 'min': -32768, 'max': 32767}, 'dimensions': [7961, 8051], 'crs': 'EPSG:32634', 'crs_transform': [30, 0, 303585, 0, -30, 5690715]}, {'id': 'ST_TRAD', 'data_type': {'type': 'PixelType', 'precision': 'int', 'min': -32768, 'max': 32767}, 'dimensions': [7961, 8051], 'crs': 'EPSG:32634', 'crs_transform': [30, 0, 303585, 0, -30, 5690715]}, {'id': 'ST_URAD', 'data_type': {'type': 'PixelType', 'precision': 'int', 'min': -32768, 'max': 32767}, 'dimensions': [7961, 8051], 'crs': 'EPSG:32634', 'crs_transform': [30, 0, 303585, 0, -30, 5690715]}, {'id': 'QA_PIXEL', 'data_type': {'type': 'PixelType', 'precision': 'int', 'min': 0, 'max': 65535}, 'dimensions': [7961, 8051], 'crs': 'EPSG:32634', 'crs_transform': [30, 0, 303585, 0, -30, 5690715]}, {'id': 'QA_RADSAT', 'data_type': {'type': 'PixelType', 'precision': 'int', 'min': 0, 'max': 65535}, 'dimensions': [7961, 8051], 'crs': 'EPSG:32634', 'crs_transform': [30, 0, 303585, 0, -30, 5690715]}], 'version': 1742948028534047, 'id': 'LANDSAT/LC09/C02/T1_L2/LC09_188025_20240813', 'properties': {'DATA_SOURCE_ELEVATION': 'GLS2000', 'WRS_TYPE': 2, 'REFLECTANCE_ADD_BAND_1': -0.2, 'REFLECTANCE_ADD_BAND_2': -0.2, 'DATUM': 'WGS84', 'REFLECTANCE_ADD_BAND_3': -0.2, 'REFLECTANCE_ADD_BAND_4': -0.2, 'REFLECTANCE_ADD_BAND_5': -0.2, 'REFLECTANCE_ADD_BAND_6': -0.2, 'REFLECTANCE_ADD_BAND_7': -0.2, 'system:footprint': {'type': 'LinearRing', 'coordinates': [[18.31767396917774, 49.65531595412762], [18.3124935210334, 49.64172258272742], [18.31666359421338, 49.640926144270175], [20.189532984181795, 49.315957698302014], [20.80788705493269, 49.200975980761015], [20.808393253257005, 49.20110686037819], [20.818632318816615, 49.22385049176139], [20.83458196370221, 49.259496350979795], [20.982014584118325, 49.59099891172878], [21.11182023745475, 49.87911812654807], [21.19523915049436, 50.063027325496584], [21.275466560796204, 50.23878418892631], [21.346789767284353, 50.3941141229697], [21.519097857441174, 50.765458039393586], [21.565176239812388, 50.86393888830756], [21.579916656650155, 50.895468658040535], [21.200838864239778, 50.96528678212862], [19.941041283846307, 51.187005503290905], [18.994222486592292, 51.34335525135985], [18.993574888844318, 51.34248536507443], [18.648149403760314, 50.495151129141654], [18.31767396917774, 49.65531595412762]]}, 'REFLECTIVE_SAMPLES': 7961, 'GROUND_CONTROL_POINTS_VERSION': 5, 'SUN_AZIMUTH': 151.00639438, 'UTM_ZONE': 34, 'DATE_ACQUIRED': '2024-08-13', 'ELLIPSOID': 'WGS84', 'system:time_end': 1723541522438, 'DATA_SOURCE_PRESSURE': 'Calculated', 'LANDSAT_PRODUCT_ID': 'LC09_L2SP_188025_20240813_20240814_02_T1', 'STATION_ID': 'LGN', 'TEMPERATURE_ADD_BAND_ST_B10': 149, 'DATA_SOURCE_REANALYSIS': 'GEOS-5 IT', 'REFLECTANCE_MULT_BAND_7': 2.75e-05, 'system:time_start': 1723541522438, 'REFLECTANCE_MULT_BAND_6': 2.75e-05, 'L1_PROCESSING_LEVEL': 'L1TP', 'PROCESSING_SOFTWARE_VERSION': 'LPGS_16.4.0', 'L1_DATE_PRODUCT_GENERATED': '2024-08-13T12:59:24Z', 'ORIENTATION': 'NORTH_UP', 'REFLECTANCE_MULT_BAND_1': 2.75e-05, 'WRS_ROW': 25, 'REFLECTANCE_MULT_BAND_3': 2.75e-05, 'REFLECTANCE_MULT_BAND_2': 2.75e-05, 'TARGET_WRS_ROW': 25, 'REFLECTANCE_MULT_BAND_5': 2.75e-05, 'REFLECTANCE_MULT_BAND_4': 2.75e-05, 'THERMAL_LINES': 8051, 'GRID_CELL_SIZE_THERMAL': 30, 'IMAGE_QUALITY_TIRS': 9, 'NADIR_OFFNADIR': 'NADIR', 'CLOUD_COVER': 0.21, 'REQUEST_ID': '1922862_00015', 'EARTH_SUN_DISTANCE': 1.0130954, 'GEOMETRIC_RMSE_VERIFY': 4.877, 'COLLECTION_CATEGORY': 'T1', 'SCENE_CENTER_TIME': '09:32:02.4381940Z', 'GRID_CELL_SIZE_REFLECTIVE': 30, 'SUN_ELEVATION': 51.22317034, 'ALGORITHM_SOURCE_SURFACE_TEMPERATURE': 'st_1.5.0', 'TEMPERATURE_MAXIMUM_BAND_ST_B10': 372.999941, 'CLOUD_COVER_LAND': 0.21, 'GEOMETRIC_RMSE_MODEL': 5.536, 'ROLL_ANGLE': 0, 'COLLECTION_NUMBER': 2, 'DATE_PRODUCT_GENERATED': 1723637260000, 'L1_REQUEST_ID': '1922665_00015', 'DATA_SOURCE_OZONE': 'VIIRS', 'SATURATION_BAND_1': 'Y', 'DATA_SOURCE_WATER_VAPOR': 'VIIRS', 'SATURATION_BAND_2': 'Y', 'SATURATION_BAND_3': 'N', 'IMAGE_QUALITY_OLI': 9, 'SATURATION_BAND_4': 'N', 'LANDSAT_SCENE_ID': 'LC91880252024226LGN00', 'SATURATION_BAND_5': 'Y', 'MAP_PROJECTION': 'UTM', 'SATURATION_BAND_6': 'Y', 'SENSOR_ID': 'OLI_TIRS', 'SATURATION_BAND_7': 'Y', 'SATURATION_BAND_8': 'N', 'WRS_PATH': 188, 'L1_PROCESSING_SOFTWARE_VERSION': 'LPGS_16.4.0', 'SATURATION_BAND_9': 'N', 'TARGET_WRS_PATH': 188, 'L1_LANDSAT_PRODUCT_ID': 'LC09_L1TP_188025_20240813_20240813_02_T1', 'TEMPERATURE_MULT_BAND_ST_B10': 0.00341802, 'PROCESSING_LEVEL': 'L2SP', 'ALGORITHM_SOURCE_SURFACE_REFLECTANCE': 'LaSRC_1.6.0', 'GROUND_CONTROL_POINTS_MODEL': 916, 'SPACECRAFT_ID': 'LANDSAT_9', 'TEMPERATURE_MINIMUM_BAND_ST_B10': 149.003418, 'GEOMETRIC_RMSE_MODEL_Y': 3.751, 'REFLECTIVE_LINES': 8051, 'GEOMETRIC_RMSE_MODEL_X': 4.072, 'THERMAL_SAMPLES': 7961, 'system:asset_size': 1010633771, 'DATA_SOURCE_AIR_TEMPERATURE': 'VIIRS', 'GROUND_CONTROL_POINTS_VERIFY': 142, 'system:index': 'LC09_188025_20240813'}}\n"
     ]
    }
   ],
   "source": [
    "print(image_2013.getInfo())\n",
    "print(image_2024.getInfo())\n"
   ]
  },
  {
   "cell_type": "markdown",
   "id": "57c2c4ea",
   "metadata": {},
   "source": [
    "## Step 3: Load CORINE Land Cover data\n",
    "- Use dataset `COPERNICUS/CORINE/V20/100m/2018`\n",
    "- Clip it to your AOI"
   ]
  },
  {
   "cell_type": "code",
   "execution_count": 7,
   "id": "815fa4f6",
   "metadata": {},
   "outputs": [
    {
     "data": {
      "text/html": [
       "\n",
       "            <style>\n",
       "                .geemap-dark {\n",
       "                    --jp-widgets-color: white;\n",
       "                    --jp-widgets-label-color: white;\n",
       "                    --jp-ui-font-color1: white;\n",
       "                    --jp-layout-color2: #454545;\n",
       "                    background-color: #383838;\n",
       "                }\n",
       "\n",
       "                .geemap-dark .jupyter-button {\n",
       "                    --jp-layout-color3: #383838;\n",
       "                }\n",
       "\n",
       "                .geemap-colab {\n",
       "                    background-color: var(--colab-primary-surface-color, white);\n",
       "                }\n",
       "\n",
       "                .geemap-colab .jupyter-button {\n",
       "                    --jp-layout-color3: var(--colab-primary-surface-color, white);\n",
       "                }\n",
       "            </style>\n",
       "            "
      ],
      "text/plain": [
       "<IPython.core.display.HTML object>"
      ]
     },
     "metadata": {},
     "output_type": "display_data"
    }
   ],
   "source": [
    "# Load CORINE\n",
    "corine_2018 = (\n",
    "    ee.Image('COPERNICUS/CORINE/V20/100m/2018')\n",
    ")\n",
    "\n",
    "corine_2018 = corine_2018.clip(aoi)"
   ]
  },
  {
   "cell_type": "markdown",
   "id": "d9991cfc",
   "metadata": {},
   "source": [
    "## Step 4: Assign emissivity to CORINE classes\n",
    "- Use a dictionary for classes\n",
    "- Use `remap()` and optionally a default value"
   ]
  },
  {
   "cell_type": "code",
   "execution_count": 9,
   "id": "3d027423",
   "metadata": {},
   "outputs": [
    {
     "data": {
      "text/html": [
       "\n",
       "            <style>\n",
       "                .geemap-dark {\n",
       "                    --jp-widgets-color: white;\n",
       "                    --jp-widgets-label-color: white;\n",
       "                    --jp-ui-font-color1: white;\n",
       "                    --jp-layout-color2: #454545;\n",
       "                    background-color: #383838;\n",
       "                }\n",
       "\n",
       "                .geemap-dark .jupyter-button {\n",
       "                    --jp-layout-color3: #383838;\n",
       "                }\n",
       "\n",
       "                .geemap-colab {\n",
       "                    background-color: var(--colab-primary-surface-color, white);\n",
       "                }\n",
       "\n",
       "                .geemap-colab .jupyter-button {\n",
       "                    --jp-layout-color3: var(--colab-primary-surface-color, white);\n",
       "                }\n",
       "            </style>\n",
       "            "
      ],
      "text/plain": [
       "<IPython.core.display.HTML object>"
      ]
     },
     "metadata": {},
     "output_type": "display_data"
    }
   ],
   "source": [
    "# Create emissivity image\n",
    "\n",
    "emissivity_dict = {\n",
    "    111: 0.92,  # Continuous urban fabric\n",
    "    112: 0.92,  # Discontinuous urban fabric\n",
    "    121: 0.91,  # Industrial or commercial units\n",
    "    211: 0.96,  # Non-irrigated arable land\n",
    "    311: 0.98,  # Forests\n",
    "    412: 0.97,  # Peat bogs\n",
    "    324: 0.96,  # Transitional woodland-shrub\n",
    "    231: 0.97   # Pastures\n",
    "}\n",
    "key_emissivity = list(emissivity_dict.keys())\n",
    "values_emissivity = list(emissivity_dict.values())\n",
    "\n",
    "emissivity_image = corine_2018.remap(key_emissivity, values_emissivity)"
   ]
  },
  {
   "cell_type": "markdown",
   "id": "dd518aea",
   "metadata": {},
   "source": [
    "## Step 5: Calculate LST using the formula:\n",
    "$$\n",
    "LST = \\frac{T_B}{1 + \\left( \\frac{\\lambda \\cdot T_B}{c_2} \\right) \\cdot \\ln(\\varepsilon)}\n",
    "$$\n",
    "- λ = 10.8 µm\n",
    "- c₂ = 14388 µm·K"
   ]
  },
  {
   "cell_type": "code",
   "execution_count": 12,
   "id": "171008bc",
   "metadata": {},
   "outputs": [
    {
     "data": {
      "text/html": [
       "\n",
       "            <style>\n",
       "                .geemap-dark {\n",
       "                    --jp-widgets-color: white;\n",
       "                    --jp-widgets-label-color: white;\n",
       "                    --jp-ui-font-color1: white;\n",
       "                    --jp-layout-color2: #454545;\n",
       "                    background-color: #383838;\n",
       "                }\n",
       "\n",
       "                .geemap-dark .jupyter-button {\n",
       "                    --jp-layout-color3: #383838;\n",
       "                }\n",
       "\n",
       "                .geemap-colab {\n",
       "                    background-color: var(--colab-primary-surface-color, white);\n",
       "                }\n",
       "\n",
       "                .geemap-colab .jupyter-button {\n",
       "                    --jp-layout-color3: var(--colab-primary-surface-color, white);\n",
       "                }\n",
       "            </style>\n",
       "            "
      ],
      "text/plain": [
       "<IPython.core.display.HTML object>"
      ]
     },
     "metadata": {},
     "output_type": "display_data"
    }
   ],
   "source": [
    "lambda_ = 10.8\n",
    "c2 = 14388\n",
    "\n",
    "lst_image = tb_image_2013.expression(\n",
    "    'TB / (1 + ((lambda * TB) / c2) * log(1.0 / emissivity))', {\n",
    "        'TB': tb_image_2013,\n",
    "        'emissivity': emissivity_image,\n",
    "        'lambda': lambda_,\n",
    "        'c2': c2\n",
    "    }).rename('LST')"
   ]
  },
  {
   "cell_type": "markdown",
   "id": "ffdeffa4",
   "metadata": {},
   "source": [
    "## Step 6: Visualize the LST result\n",
    "- Use palette: `['blue', 'yellow', 'red']`\n",
    "- Suggested range: `min=290`, `max=325`"
   ]
  },
  {
   "cell_type": "code",
   "execution_count": 13,
   "id": "b4d0f08e",
   "metadata": {},
   "outputs": [
    {
     "data": {
      "text/html": [
       "\n",
       "            <style>\n",
       "                .geemap-dark {\n",
       "                    --jp-widgets-color: white;\n",
       "                    --jp-widgets-label-color: white;\n",
       "                    --jp-ui-font-color1: white;\n",
       "                    --jp-layout-color2: #454545;\n",
       "                    background-color: #383838;\n",
       "                }\n",
       "\n",
       "                .geemap-dark .jupyter-button {\n",
       "                    --jp-layout-color3: #383838;\n",
       "                }\n",
       "\n",
       "                .geemap-colab {\n",
       "                    background-color: var(--colab-primary-surface-color, white);\n",
       "                }\n",
       "\n",
       "                .geemap-colab .jupyter-button {\n",
       "                    --jp-layout-color3: var(--colab-primary-surface-color, white);\n",
       "                }\n",
       "            </style>\n",
       "            "
      ],
      "text/plain": [
       "<IPython.core.display.HTML object>"
      ]
     },
     "metadata": {},
     "output_type": "display_data"
    },
    {
     "data": {
      "application/vnd.jupyter.widget-view+json": {
       "model_id": "a4296319aa9a4094a44e7b72e03e253d",
       "version_major": 2,
       "version_minor": 0
      },
      "text/plain": [
       "Map(center=[50.100236451862415, 19.95833250000626], controls=(WidgetControl(options=['position', 'transparent_…"
      ]
     },
     "execution_count": 13,
     "metadata": {},
     "output_type": "execute_result"
    }
   ],
   "source": [
    "# Visualize LST\n",
    "Map = geemap.Map()\n",
    "Map.centerObject(aoi, zoom=15)\n",
    "\n",
    "vis_params = {\n",
    "    'palette': ['blue', 'yellow', 'red'],\n",
    "    'min': 290,\n",
    "    'max': 325,\n",
    "}\n",
    "\n",
    "Map.addLayer(lst_image, vis_params, 'LST')\n",
    "Map"
   ]
  },
  {
   "cell_type": "markdown",
   "id": "74c186bf",
   "metadata": {},
   "source": [
    "## Step 7: (Optional) Analyze statistics by land cover class"
   ]
  },
  {
   "cell_type": "code",
   "execution_count": null,
   "id": "05596938",
   "metadata": {},
   "outputs": [
    {
     "data": {
      "text/html": [
       "\n",
       "            <style>\n",
       "                .geemap-dark {\n",
       "                    --jp-widgets-color: white;\n",
       "                    --jp-widgets-label-color: white;\n",
       "                    --jp-ui-font-color1: white;\n",
       "                    --jp-layout-color2: #454545;\n",
       "                    background-color: #383838;\n",
       "                }\n",
       "\n",
       "                .geemap-dark .jupyter-button {\n",
       "                    --jp-layout-color3: #383838;\n",
       "                }\n",
       "\n",
       "                .geemap-colab {\n",
       "                    background-color: var(--colab-primary-surface-color, white);\n",
       "                }\n",
       "\n",
       "                .geemap-colab .jupyter-button {\n",
       "                    --jp-layout-color3: var(--colab-primary-surface-color, white);\n",
       "                }\n",
       "            </style>\n",
       "            "
      ],
      "text/plain": [
       "<IPython.core.display.HTML object>"
      ]
     },
     "metadata": {},
     "output_type": "display_data"
    },
    {
     "name": "stdout",
     "output_type": "stream",
     "text": [
      "['Class: 112, Mean LST: 306.86', 'Class: 121, Mean LST: 308.99', 'Class: 211, Mean LST: 312.93', 'Class: 243, Mean LST: N/A']\n"
     ]
    }
   ],
   "source": [
    "# Optionally compute zonal statistics\n",
    "\n",
    "lst_with_class = lst_image.addBands(corine_2018.rename('class'))\n",
    "\n",
    "\n",
    "stats = lst_with_class.reduceRegion(\n",
    "    reducer=ee.Reducer.mean().group(\n",
    "        groupField=1,\n",
    "        groupName='class'\n",
    "    ),\n",
    "    geometry=aoi,\n",
    "    scale=100,  # Match CORINE resolution\n",
    "    maxPixels=1e13\n",
    ")\n",
    "\n",
    "\n",
    "grouped_stats = stats.get('groups')\n",
    "grouped_stats = ee.List(grouped_stats)\n",
    "\n",
    "def safe_format_dict(d):\n",
    "    d = ee.Dictionary(d)\n",
    "    land_class = ee.Number(d.get('class'))\n",
    "    mean_val = ee.Algorithms.If(d.contains('mean'), ee.Number(d.get('mean')).format('%.2f'), 'N/A')\n",
    "    return ee.String('Class: ').cat(land_class.format()).cat(', Mean LST: ').cat(mean_val)\n",
    "\n",
    "\n",
    "formatted = grouped_stats.map(safe_format_dict)\n",
    "print(formatted.getInfo())\n"
   ]
  },
  {
   "cell_type": "code",
   "execution_count": null,
   "id": "97470caa",
   "metadata": {},
   "outputs": [
    {
     "data": {
      "text/html": [
       "\n",
       "            <style>\n",
       "                .geemap-dark {\n",
       "                    --jp-widgets-color: white;\n",
       "                    --jp-widgets-label-color: white;\n",
       "                    --jp-ui-font-color1: white;\n",
       "                    --jp-layout-color2: #454545;\n",
       "                    background-color: #383838;\n",
       "                }\n",
       "\n",
       "                .geemap-dark .jupyter-button {\n",
       "                    --jp-layout-color3: #383838;\n",
       "                }\n",
       "\n",
       "                .geemap-colab {\n",
       "                    background-color: var(--colab-primary-surface-color, white);\n",
       "                }\n",
       "\n",
       "                .geemap-colab .jupyter-button {\n",
       "                    --jp-layout-color3: var(--colab-primary-surface-color, white);\n",
       "                }\n",
       "            </style>\n",
       "            "
      ],
      "text/plain": [
       "<IPython.core.display.HTML object>"
      ]
     },
     "metadata": {},
     "output_type": "display_data"
    },
    {
     "data": {
      "image/png": "[encoded data removed]",
      "text/plain": [
       "<Figure size 1000x600 with 1 Axes>"
      ]
     },
     "metadata": {},
     "output_type": "display_data"
    }
   ],
   "source": [
    "import pandas as pd\n",
    "import matplotlib.pyplot as plt\n",
    "\n",
    "\n",
    "grouped_list = grouped_stats.getInfo()\n",
    "\n",
    "\n",
    "data = []\n",
    "for item in grouped_list:\n",
    "    class_id = item.get('class')\n",
    "    mean_lst = item.get('mean')\n",
    "    if mean_lst is not None:\n",
    "        data.append({'Class': class_id, 'Mean_LST': mean_lst})\n",
    "\n",
    "df = pd.DataFrame(data).sort_values(by='Mean_LST')\n",
    "\n",
    "\n",
    "plt.figure(figsize=(10, 6))\n",
    "plt.bar(df['Class'].astype(str), df['Mean_LST'])\n",
    "plt.xlabel('CORINE Land Cover Class')\n",
    "plt.ylabel('Mean LST (K)')\n",
    "plt.title('Mean Land Surface Temperature by Land Cover Class')\n",
    "plt.grid(True)\n",
    "plt.show()"
   ]
  },
  {
   "cell_type": "markdown",
   "id": "40c948a6",
   "metadata": {},
   "source": [
    "## Step 8: (Optional - Easter Egg :)) Generate your own Land Cover Classification using TerraTorch and foundation models*\n",
    "\n",
    "Based on the example/tutorial: https://aiforgood.itu.int/event/workshop-earth-observation-foundation-models-with-prithvi-eo-2-0-and-terratorch/\n",
    "\n",
    "*to earn 5.0 grade that will make a great impact on your final grade"
   ]
  },
  {
   "cell_type": "markdown",
   "id": "d4178201",
   "metadata": {},
   "source": []
  },
  {
   "cell_type": "markdown",
   "id": "7092e98e",
   "metadata": {},
   "source": []
  }
 ],
 "metadata": {
  "kernelspec": {
   "display_name": "Python 3",
   "language": "python",
   "name": "python3"
  },
  "language_info": {
   "codemirror_mode": {
    "name": "ipython",
    "version": 3
   },
   "file_extension": ".py",
   "mimetype": "text/x-python",
   "name": "python",
   "nbconvert_exporter": "python",
   "pygments_lexer": "ipython3",
   "version": "3.9.21"
  }
 },
 "nbformat": 4,
 "nbformat_minor": 5
}

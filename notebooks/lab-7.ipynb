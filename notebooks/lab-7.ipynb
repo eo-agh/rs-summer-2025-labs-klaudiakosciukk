{
 "cells": [
  {
   "cell_type": "markdown",
   "metadata": {},
   "source": [
    "# Exercise: Flood Analysis in Opole (2024) using Sentinel-1 SAR Data\n",
    "\n",
    "In this exercise, you will compare radar backscatter from Sentinel-1 before and after the 2024 flood in Opole, Poland.\n",
    "\n",
    "**Objective:**\n",
    "- Load Sentinel-1 VV data before and after the flood\n",
    "- Convert radar intensity to decibels (dB)\n",
    "- Calculate the difference between the two dates\n",
    "- Identify areas with a significant decrease in VV (possible flood zones)"
   ]
  },
  {
   "cell_type": "markdown",
   "metadata": {},
   "source": [
    "## Step 1: Import Earth Engine and geemap"
   ]
  },
  {
   "cell_type": "code",
   "metadata": {},
   "source": [
    "import ee\n",
    "import geemap\n",
    "\n",
    "ee.Initialize()\n",
    "Map = geemap.Map(center=[50.675, 17.931], zoom=12)\n",
    "region = ee.Geometry.Point([17.931, 50.675])"
   ]
  },
  {
   "cell_type": "markdown",
   "metadata": {},
   "source": [
    "## Step 2: Load Sentinel-1 VV images (before and after flood)"
   ]
  },
  {
   "cell_type": "code",
   "metadata": {},
   "source": [
    "# TODO: Load Sentinel-1 collection for before and after flood\n",
    "# Use filterBounds, filterDate, and select 'VV' band\n",
    "# Apply .mean() to get average image from each period"
   ]
  },
  {
   "cell_type": "markdown",
   "metadata": {},
   "source": [
    "## Step 3: Convert to dB scale"
   ]
  },
  {
   "cell_type": "code",
   "metadata": {},
   "source": [
    "# TODO: Use .log10().multiply(10) to convert before/after images to dB"
   ]
  },
  {
   "cell_type": "markdown",
   "metadata": {},
   "source": [
    "## Step 4: Calculate difference and threshold potential flood areas"
   ]
  },
  {
   "cell_type": "code",
   "metadata": {},
   "source": [
    "# TODO: Subtract after_dB from before_dB\n",
    "# Create flood mask: pixels where difference > 3 dB"
   ]
  },
  {
   "cell_type": "markdown",
   "metadata": {},
   "source": [
    "## Step 5: Visualize the results"
   ]
  },
  {
   "cell_type": "code",
   "metadata": {},
   "source": [
    "# TODO: Use Map.addLayer() to show before, after, difference, and flood mask"
   ]
  },
  {
   "cell_type": "code",
   "metadata": {},
   "source": [
    "Map"
   ]
  }
 ],
 "metadata": {
  "kernelspec": {
   "display_name": "Python 3",
   "language": "python",
   "name": "python3"
  },
  "language_info": {
   "name": "python"
  }
 },
 "nbformat": 4,
 "nbformat_minor": 2
}
